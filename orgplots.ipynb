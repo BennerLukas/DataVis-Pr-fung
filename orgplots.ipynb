{
 "metadata": {
  "language_info": {
   "codemirror_mode": {
    "name": "ipython",
    "version": 3
   },
   "file_extension": ".py",
   "mimetype": "text/x-python",
   "name": "python",
   "nbconvert_exporter": "python",
   "pygments_lexer": "ipython3",
   "version": 3
  },
  "orig_nbformat": 2,
  "kernelspec": {
   "name": "python_defaultSpec_1596552185077",
   "display_name": "Python 3.7.7 64-bit"
  }
 },
 "nbformat": 4,
 "nbformat_minor": 2,
 "cells": [
  {
   "cell_type": "code",
   "execution_count": 27,
   "metadata": {
    "tags": []
   },
   "outputs": [],
   "source": [
    "# Prolog - Auto Generated #\n",
    "import os, uuid, matplotlib\n",
    "matplotlib.use('Agg')\n",
    "import matplotlib.pyplot\n",
    "import pandas\n",
    "\n",
    "os.chdir(u'C:/Users/Lukas/PythonEditorWrapper_a0f9235c-3803-497c-be3b-d13b4216d7da')\n",
    "dataset = pandas.read_csv('input_df_db7847e7-5356-4231-9ceb-ba49abfb6e2c.csv')\n",
    "\n",
    "matplotlib.pyplot.figure(figsize=(5.55555555555556,4.16666666666667), dpi=72)\n",
    "matplotlib.pyplot.show = lambda args=None,kw=None: matplotlib.pyplot.savefig(str(uuid.uuid1()))\n",
    "# Original Script. Please update your script content here and once completed copy below section back to the original editing window #\n",
    "# Der folgende Code zum Erstellen eines Datenrahmens und zum Entfernen doppelter Zeilen wird immer ausgeführt und dient als Präambel für Ihr Skript: \n",
    "\n",
    "# dataset = pandas.DataFrame(Purchasing Org., 2020, deviation indicator)\n",
    "# dataset = dataset.drop_duplicates()\n",
    "\n",
    "# Fügen oder geben Sie hier Ihren Skriptcode ein:\n",
    "import matplotlib.pyplot as plt \n",
    "import pandas as pd \n",
    "import numpy as np\n",
    "df = dataset.pivot(columns=\"Purchasing Org.\", values=\"2020\", index=\"deviation indicator\")\n",
    "df = df.fillna(0).T\n",
    "fig, ax = plt.subplots(figsize=(3.8,4))\n",
    "\n",
    "# print(df.head())\n",
    "try:\n",
    "    p1 = ax.barh(df.index, df[\"In Time\"], label=\"In Time\", color=\"#000000\")\n",
    "except:\n",
    "    pass\n",
    "try:\n",
    "    p2 = ax.barh(df.index, df[\"late: < 5 days\"], left=df[\"In Time\"], label=\"late: < 5 days\", color=\"#605D5C\")\n",
    "except:\n",
    "    pass\n",
    "try:\n",
    "    adding = np.add(df[\"In Time\"],df[\"late: < 5 days\"]).tolist()\n",
    "    p3 = ax.barh(df.index, df[\"late: 5 to 15 days\"], left=adding, label=\"late: 5 to 15 days\", color=\"#959595\")\n",
    "except:\n",
    "    pass    \n",
    "try:\n",
    "    adding2 = np.add(adding,df[\"late: 5 to 15 days\"]).tolist()\n",
    "    p4 = ax.barh(df.index, df[\"late: > 15 days\"], left=adding2, label=\"late: > 15 days\", color=\"#DEDEDE\")\n",
    "except:\n",
    "    pass\n",
    "\n",
    "\n",
    "ax.set_ylabel(\"Purchasing Org.\")\n",
    "plt.legend(loc=\"lower center\", bbox_to_anchor=(0.5, -0.4))\n",
    "fig.subplots_adjust(bottom=0.25)\n",
    "ax.xaxis.grid()\n",
    "ax.set_axisbelow(True)\n",
    "ax.set_title(\"Deviation by Purchasing Org.\")\n",
    "\n",
    "plt.show()\n",
    "\n",
    "# Epilog - Auto Generated #\n",
    "# os.chdir(u'C:/Users/Lukas/PythonEditorWrapper_a0f9235c-3803-497c-be3b-d13b4216d7da')"
   ]
  },
  {
   "cell_type": "code",
   "execution_count": 22,
   "metadata": {},
   "outputs": [],
   "source": [
    "plt.show()\n"
   ]
  },
  {
   "cell_type": "code",
   "execution_count": 26,
   "metadata": {},
   "outputs": [
    {
     "output_type": "execute_result",
     "data": {
      "text/plain": "deviation indicator  In Time  late: 5 to 15 days  late: < 5 days\nPurchasing Org.                                                 \n54                      0.00                 0.0        79404.72\n5210                    0.00              7722.0        24374.00\n5410                 4061.89                 0.0          807.11",
      "text/html": "<div>\n<style scoped>\n    .dataframe tbody tr th:only-of-type {\n        vertical-align: middle;\n    }\n\n    .dataframe tbody tr th {\n        vertical-align: top;\n    }\n\n    .dataframe thead th {\n        text-align: right;\n    }\n</style>\n<table border=\"1\" class=\"dataframe\">\n  <thead>\n    <tr style=\"text-align: right;\">\n      <th>deviation indicator</th>\n      <th>In Time</th>\n      <th>late: 5 to 15 days</th>\n      <th>late: &lt; 5 days</th>\n    </tr>\n    <tr>\n      <th>Purchasing Org.</th>\n      <th></th>\n      <th></th>\n      <th></th>\n    </tr>\n  </thead>\n  <tbody>\n    <tr>\n      <th>54</th>\n      <td>0.00</td>\n      <td>0.0</td>\n      <td>79404.72</td>\n    </tr>\n    <tr>\n      <th>5210</th>\n      <td>0.00</td>\n      <td>7722.0</td>\n      <td>24374.00</td>\n    </tr>\n    <tr>\n      <th>5410</th>\n      <td>4061.89</td>\n      <td>0.0</td>\n      <td>807.11</td>\n    </tr>\n  </tbody>\n</table>\n</div>"
     },
     "metadata": {},
     "execution_count": 26
    }
   ],
   "source": [
    "df"
   ]
  },
  {
   "cell_type": "code",
   "execution_count": 24,
   "metadata": {},
   "outputs": [],
   "source": [
    "df.index = df.index.astype(str)\n"
   ]
  },
  {
   "cell_type": "code",
   "execution_count": 25,
   "metadata": {
    "tags": []
   },
   "outputs": [
    {
     "output_type": "stream",
     "name": "stdout",
     "text": "<class 'pandas.core.frame.DataFrame'>\nIndex: 3 entries, 54 to 5410\nData columns (total 3 columns):\n #   Column              Non-Null Count  Dtype  \n---  ------              --------------  -----  \n 0   In Time             3 non-null      float64\n 1   late: 5 to 15 days  3 non-null      float64\n 2   late: < 5 days      3 non-null      float64\ndtypes: float64(3)\nmemory usage: 96.0+ bytes\n"
    }
   ],
   "source": [
    "df.info()"
   ]
  },
  {
   "cell_type": "code",
   "execution_count": null,
   "metadata": {},
   "outputs": [],
   "source": []
  }
 ]
}