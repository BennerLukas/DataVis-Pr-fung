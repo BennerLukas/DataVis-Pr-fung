{
 "metadata": {
  "language_info": {
   "codemirror_mode": {
    "name": "ipython",
    "version": 3
   },
   "file_extension": ".py",
   "mimetype": "text/x-python",
   "name": "python",
   "nbconvert_exporter": "python",
   "pygments_lexer": "ipython3",
   "version": 3
  },
  "orig_nbformat": 2,
  "kernelspec": {
   "name": "python_defaultSpec_1596610884370",
   "display_name": "Python 3.7.7 64-bit"
  }
 },
 "nbformat": 4,
 "nbformat_minor": 2,
 "cells": [
  {
   "cell_type": "code",
   "execution_count": 6,
   "metadata": {
    "tags": []
   },
   "outputs": [
    {
     "output_type": "error",
     "ename": "FileNotFoundError",
     "evalue": "[WinError 2] Das System kann die angegebene Datei nicht finden: 'C:/Users/Lukas/PythonEditorWrapper_a0f9235c-3803-497c-be3b-d13b4216d7da'",
     "traceback": [
      "\u001b[1;31m---------------------------------------------------------------------------\u001b[0m",
      "\u001b[1;31mFileNotFoundError\u001b[0m                         Traceback (most recent call last)",
      "\u001b[1;32m<ipython-input-6-7717416d1082>\u001b[0m in \u001b[0;36m<module>\u001b[1;34m\u001b[0m\n\u001b[0;32m      5\u001b[0m \u001b[1;32mimport\u001b[0m \u001b[0mpandas\u001b[0m\u001b[1;33m\u001b[0m\u001b[1;33m\u001b[0m\u001b[0m\n\u001b[0;32m      6\u001b[0m \u001b[1;33m\u001b[0m\u001b[0m\n\u001b[1;32m----> 7\u001b[1;33m \u001b[0mos\u001b[0m\u001b[1;33m.\u001b[0m\u001b[0mchdir\u001b[0m\u001b[1;33m(\u001b[0m\u001b[1;34mu'C:/Users/Lukas/PythonEditorWrapper_a0f9235c-3803-497c-be3b-d13b4216d7da'\u001b[0m\u001b[1;33m)\u001b[0m\u001b[1;33m\u001b[0m\u001b[1;33m\u001b[0m\u001b[0m\n\u001b[0m\u001b[0;32m      8\u001b[0m \u001b[0mdataset\u001b[0m \u001b[1;33m=\u001b[0m \u001b[0mpandas\u001b[0m\u001b[1;33m.\u001b[0m\u001b[0mread_csv\u001b[0m\u001b[1;33m(\u001b[0m\u001b[1;34m'input_df_db7847e7-5356-4231-9ceb-ba49abfb6e2c.csv'\u001b[0m\u001b[1;33m)\u001b[0m\u001b[1;33m\u001b[0m\u001b[1;33m\u001b[0m\u001b[0m\n\u001b[0;32m      9\u001b[0m \u001b[1;33m\u001b[0m\u001b[0m\n",
      "\u001b[1;31mFileNotFoundError\u001b[0m: [WinError 2] Das System kann die angegebene Datei nicht finden: 'C:/Users/Lukas/PythonEditorWrapper_a0f9235c-3803-497c-be3b-d13b4216d7da'"
     ]
    }
   ],
   "source": [
    "# Prolog - Auto Generated #\n",
    "import os, uuid, matplotlib\n",
    "matplotlib.use('Agg')\n",
    "import matplotlib.pyplot\n",
    "import pandas\n",
    "\n",
    "os.chdir(u'C:/Users/Lukas/PythonEditorWrapper_a0f9235c-3803-497c-be3b-d13b4216d7da')\n",
    "dataset = pandas.read_csv('input_df_db7847e7-5356-4231-9ceb-ba49abfb6e2c.csv')\n",
    "\n",
    "matplotlib.pyplot.figure(figsize=(5.55555555555556,4.16666666666667), dpi=72)\n",
    "matplotlib.pyplot.show = lambda args=None,kw=None: matplotlib.pyplot.savefig(str(uuid.uuid1()))\n",
    "# Original Script. Please update your script content here and once completed copy below section back to the original editing window #\n",
    "# Der folgende Code zum Erstellen eines Datenrahmens und zum Entfernen doppelter Zeilen wird immer ausgeführt und dient als Präambel für Ihr Skript: \n",
    "\n",
    "# dataset = pandas.DataFrame(Purchasing Org., 2020, deviation indicator)\n",
    "# dataset = dataset.drop_duplicates()\n",
    "\n",
    "# Fügen oder geben Sie hier Ihren Skriptcode ein:\n",
    "import matplotlib.pyplot as plt \n",
    "import pandas as pd \n",
    "import numpy as np\n",
    "df = dataset.pivot(columns=\"Purchasing Org.\", values=\"2020\", index=\"deviation indicator\")\n",
    "df = df.fillna(0).T\n",
    "fig, ax = plt.subplots(figsize=(3.8,4))\n",
    "\n",
    "# print(df.head())\n",
    "try:\n",
    "    p1 = ax.barh(df.index, df[\"In Time\"], label=\"In Time\", color=\"#000000\")\n",
    "except:\n",
    "    pass\n",
    "try:\n",
    "    p2 = ax.barh(df.index, df[\"late: < 5 days\"], left=df[\"In Time\"], label=\"late: < 5 days\", color=\"#605D5C\")\n",
    "except:\n",
    "    pass\n",
    "try:\n",
    "    adding = np.add(df[\"In Time\"],df[\"late: < 5 days\"]).tolist()\n",
    "    p3 = ax.barh(df.index, df[\"late: 5 to 15 days\"], left=adding, label=\"late: 5 to 15 days\", color=\"#959595\")\n",
    "except:\n",
    "    pass    \n",
    "try:\n",
    "    adding2 = np.add(adding,df[\"late: 5 to 15 days\"]).tolist()\n",
    "    p4 = ax.barh(df.index, df[\"late: > 15 days\"], left=adding2, label=\"late: > 15 days\", color=\"#DEDEDE\")\n",
    "except:\n",
    "    pass\n",
    "\n",
    "\n",
    "ax.set_ylabel(\"Purchasing Org.\")\n",
    "plt.legend(loc=\"lower center\", bbox_to_anchor=(0.5, -0.4))\n",
    "fig.subplots_adjust(bottom=0.25)\n",
    "ax.xaxis.grid()\n",
    "ax.set_axisbelow(True)\n",
    "ax.set_title(\"Deviation by Purchasing Org.\")\n",
    "\n",
    "plt.show()\n",
    "\n",
    "# Epilog - Auto Generated #\n",
    "# os.chdir(u'C:/Users/Lukas/PythonEditorWrapper_a0f9235c-3803-497c-be3b-d13b4216d7da')"
   ]
  },
  {
   "cell_type": "code",
   "execution_count": 2,
   "metadata": {},
   "outputs": [
    {
     "output_type": "error",
     "ename": "NameError",
     "evalue": "name 'plt' is not defined",
     "traceback": [
      "\u001b[1;31m---------------------------------------------------------------------------\u001b[0m",
      "\u001b[1;31mNameError\u001b[0m                                 Traceback (most recent call last)",
      "\u001b[1;32m<ipython-input-2-1eb00ff78cf2>\u001b[0m in \u001b[0;36m<module>\u001b[1;34m\u001b[0m\n\u001b[1;32m----> 1\u001b[1;33m \u001b[0mplt\u001b[0m\u001b[1;33m.\u001b[0m\u001b[0mshow\u001b[0m\u001b[1;33m(\u001b[0m\u001b[1;33m)\u001b[0m\u001b[1;33m\u001b[0m\u001b[1;33m\u001b[0m\u001b[0m\n\u001b[0m",
      "\u001b[1;31mNameError\u001b[0m: name 'plt' is not defined"
     ]
    }
   ],
   "source": [
    "plt.show()\n"
   ]
  },
  {
   "cell_type": "code",
   "execution_count": 3,
   "metadata": {},
   "outputs": [
    {
     "output_type": "error",
     "ename": "NameError",
     "evalue": "name 'df' is not defined",
     "traceback": [
      "\u001b[1;31m---------------------------------------------------------------------------\u001b[0m",
      "\u001b[1;31mNameError\u001b[0m                                 Traceback (most recent call last)",
      "\u001b[1;32m<ipython-input-3-00cf07b74dcd>\u001b[0m in \u001b[0;36m<module>\u001b[1;34m\u001b[0m\n\u001b[1;32m----> 1\u001b[1;33m \u001b[0mdf\u001b[0m\u001b[1;33m\u001b[0m\u001b[1;33m\u001b[0m\u001b[0m\n\u001b[0m",
      "\u001b[1;31mNameError\u001b[0m: name 'df' is not defined"
     ]
    }
   ],
   "source": [
    "df"
   ]
  },
  {
   "cell_type": "code",
   "execution_count": 4,
   "metadata": {},
   "outputs": [
    {
     "output_type": "error",
     "ename": "NameError",
     "evalue": "name 'df' is not defined",
     "traceback": [
      "\u001b[1;31m---------------------------------------------------------------------------\u001b[0m",
      "\u001b[1;31mNameError\u001b[0m                                 Traceback (most recent call last)",
      "\u001b[1;32m<ipython-input-4-8d810f7d7bd7>\u001b[0m in \u001b[0;36m<module>\u001b[1;34m\u001b[0m\n\u001b[1;32m----> 1\u001b[1;33m \u001b[0mdf\u001b[0m\u001b[1;33m.\u001b[0m\u001b[0mindex\u001b[0m \u001b[1;33m=\u001b[0m \u001b[0mdf\u001b[0m\u001b[1;33m.\u001b[0m\u001b[0mindex\u001b[0m\u001b[1;33m.\u001b[0m\u001b[0mastype\u001b[0m\u001b[1;33m(\u001b[0m\u001b[0mstr\u001b[0m\u001b[1;33m)\u001b[0m\u001b[1;33m\u001b[0m\u001b[1;33m\u001b[0m\u001b[0m\n\u001b[0m",
      "\u001b[1;31mNameError\u001b[0m: name 'df' is not defined"
     ]
    }
   ],
   "source": [
    "df.index = df.index.astype(str)\n"
   ]
  },
  {
   "cell_type": "code",
   "execution_count": 5,
   "metadata": {
    "tags": []
   },
   "outputs": [
    {
     "output_type": "error",
     "ename": "NameError",
     "evalue": "name 'df' is not defined",
     "traceback": [
      "\u001b[1;31m---------------------------------------------------------------------------\u001b[0m",
      "\u001b[1;31mNameError\u001b[0m                                 Traceback (most recent call last)",
      "\u001b[1;32m<ipython-input-5-a74c58233b9e>\u001b[0m in \u001b[0;36m<module>\u001b[1;34m\u001b[0m\n\u001b[1;32m----> 1\u001b[1;33m \u001b[0mdf\u001b[0m\u001b[1;33m.\u001b[0m\u001b[0minfo\u001b[0m\u001b[1;33m(\u001b[0m\u001b[1;33m)\u001b[0m\u001b[1;33m\u001b[0m\u001b[1;33m\u001b[0m\u001b[0m\n\u001b[0m",
      "\u001b[1;31mNameError\u001b[0m: name 'df' is not defined"
     ]
    }
   ],
   "source": [
    "df.info()"
   ]
  },
  {
   "cell_type": "code",
   "execution_count": null,
   "metadata": {},
   "outputs": [],
   "source": []
  }
 ]
}